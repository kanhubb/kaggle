{
  "nbformat": 4,
  "nbformat_minor": 0,
  "metadata": {
    "colab": {
      "provenance": [],
      "authorship_tag": "ABX9TyOpMd7zYZ4Twkz85YwI7RUa",
      "include_colab_link": true
    },
    "kernelspec": {
      "name": "python3",
      "display_name": "Python 3"
    },
    "language_info": {
      "name": "python"
    }
  },
  "cells": [
    {
      "cell_type": "markdown",
      "metadata": {
        "id": "view-in-github",
        "colab_type": "text"
      },
      "source": [
        "<a href=\"https://colab.research.google.com/github/diezeJhon/kaggle/blob/main/Predicting_Optimal_Fertilizers.ipynb\" target=\"_parent\"><img src=\"https://colab.research.google.com/assets/colab-badge.svg\" alt=\"Open In Colab\"/></a>"
      ]
    },
    {
      "cell_type": "code",
      "execution_count": 1,
      "metadata": {
        "colab": {
          "base_uri": "https://localhost:8080/"
        },
        "id": "nqPe5_L87OCV",
        "outputId": "88c98285-42ec-4f41-91f3-d3a83b237d32"
      },
      "outputs": [
        {
          "output_type": "stream",
          "name": "stdout",
          "text": [
            "📥 Downloading train.csv...\n"
          ]
        },
        {
          "output_type": "stream",
          "name": "stderr",
          "text": [
            "Downloading...\n",
            "From: https://drive.google.com/uc?id=1SvEGHVnE1JKCVAnVuZp8DNtk0sDn0yYL\n",
            "To: /content/data/train.csv\n",
            "100%|██████████| 33.4M/33.4M [00:00<00:00, 75.4MB/s]\n"
          ]
        },
        {
          "output_type": "stream",
          "name": "stdout",
          "text": [
            "📥 Downloading test.csv...\n"
          ]
        },
        {
          "output_type": "stream",
          "name": "stderr",
          "text": [
            "Downloading...\n",
            "From: https://drive.google.com/uc?id=1B9EvIA24CD2Mcth5QGSKrJbZAdPz3XcT\n",
            "To: /content/data/test.csv\n",
            "100%|██████████| 9.43M/9.43M [00:00<00:00, 65.8MB/s]\n"
          ]
        },
        {
          "output_type": "stream",
          "name": "stdout",
          "text": [
            "📊 Loading data into DataFrames...\n",
            "\n",
            "✅ Files downloaded successfully!\n",
            "Train shape: (750000, 9)\n",
            "Test shape: (250000, 8)\n"
          ]
        }
      ],
      "source": [
        "import os\n",
        "import gdown\n",
        "import pandas as pd\n",
        "\n",
        "# Create the directory for storing files\n",
        "DATA_DIR = \"data\"\n",
        "os.makedirs(DATA_DIR, exist_ok=True)\n",
        "\n",
        "# Google Drive file IDs (replace with actual IDs)\n",
        "TRAIN_FILE_ID = \"1SvEGHVnE1JKCVAnVuZp8DNtk0sDn0yYL\"\n",
        "TEST_FILE_ID = \"1B9EvIA24CD2Mcth5QGSKrJbZAdPz3XcT\"\n",
        "\n",
        "\n",
        "# File paths\n",
        "train_output = os.path.join(DATA_DIR, \"train.csv\")\n",
        "test_output = os.path.join(DATA_DIR, \"test.csv\")\n",
        "\n",
        "# Download train.csv\n",
        "print(\"📥 Downloading train.csv...\")\n",
        "gdown.download(f\"https://drive.google.com/uc?id={TRAIN_FILE_ID}\", train_output, quiet=False)\n",
        "\n",
        "# Download test.csv\n",
        "print(\"📥 Downloading test.csv...\")\n",
        "gdown.download(f\"https://drive.google.com/uc?id={TEST_FILE_ID}\", test_output, quiet=False)\n",
        "\n",
        "# Load into Pandas DataFrame\n",
        "print(\"📊 Loading data into DataFrames...\")\n",
        "df_train = pd.read_csv(train_output,index_col=\"id\")\n",
        "df_test = pd.read_csv(test_output,index_col=\"id\")\n",
        "\n",
        "# Confirm shapes\n",
        "print(\"\\n✅ Files downloaded successfully!\")\n",
        "print(f\"Train shape: {df_train.shape}\")\n",
        "print(f\"Test shape: {df_test.shape}\")"
      ]
    }
  ]
}