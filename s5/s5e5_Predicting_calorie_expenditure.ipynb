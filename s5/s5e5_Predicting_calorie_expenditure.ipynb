{
  "nbformat": 4,
  "nbformat_minor": 0,
  "metadata": {
    "colab": {
      "provenance": [],
      "authorship_tag": "ABX9TyP6q54oTuqo0sLsek5AI3XM",
      "include_colab_link": true
    },
    "kernelspec": {
      "name": "python3",
      "display_name": "Python 3"
    },
    "language_info": {
      "name": "python"
    }
  },
  "cells": [
    {
      "cell_type": "markdown",
      "metadata": {
        "id": "view-in-github",
        "colab_type": "text"
      },
      "source": [
        "<a href=\"https://colab.research.google.com/github/diezeJhon/kaggle/blob/main/Predict_Calorie_Expenditure.ipynb\" target=\"_parent\"><img src=\"https://colab.research.google.com/assets/colab-badge.svg\" alt=\"Open In Colab\"/></a>"
      ]
    },
    {
      "cell_type": "code",
      "execution_count": 1,
      "metadata": {
        "colab": {
          "base_uri": "https://localhost:8080/"
        },
        "id": "MyzdALSb5A-f",
        "outputId": "de9e98cb-0f9d-45f9-f9a4-431752f18ea2"
      },
      "outputs": [
        {
          "output_type": "stream",
          "name": "stdout",
          "text": [
            "📥 Downloading train.csv...\n"
          ]
        },
        {
          "output_type": "stream",
          "name": "stderr",
          "text": [
            "Downloading...\n",
            "From: https://drive.google.com/uc?id=1L5-1-vG47U8usj5fqLQ_ZP7WBSTTKWqC\n",
            "To: /content/data/train.csv\n",
            "100%|██████████| 35.5M/35.5M [00:00<00:00, 123MB/s]\n"
          ]
        },
        {
          "output_type": "stream",
          "name": "stdout",
          "text": [
            "📥 Downloading test.csv...\n"
          ]
        },
        {
          "output_type": "stream",
          "name": "stderr",
          "text": [
            "Downloading...\n",
            "From: https://drive.google.com/uc?id=1zZbvEs1eUtjwREyUp2r9zdLk4BnBQJTG\n",
            "To: /content/data/test.csv\n",
            "100%|██████████| 10.5M/10.5M [00:00<00:00, 36.6MB/s]\n"
          ]
        },
        {
          "output_type": "stream",
          "name": "stdout",
          "text": [
            "📊 Loading data into DataFrames...\n",
            "\n",
            "✅ Files downloaded successfully!\n",
            "Train shape: (750000, 8)\n",
            "Test shape: (250000, 7)\n"
          ]
        }
      ],
      "source": [
        "\n",
        "import os\n",
        "import gdown\n",
        "import pandas as pd\n",
        "\n",
        "# Create the directory for storing files\n",
        "DATA_DIR = \"data\"\n",
        "os.makedirs(DATA_DIR, exist_ok=True)\n",
        "\n",
        "# Google Drive file IDs (replace with actual IDs)\n",
        "TRAIN_FILE_ID = \"1L5-1-vG47U8usj5fqLQ_ZP7WBSTTKWqC\"\n",
        "TEST_FILE_ID = \"1zZbvEs1eUtjwREyUp2r9zdLk4BnBQJTG\"\n",
        "\n",
        "\n",
        "# File paths\n",
        "train_output = os.path.join(DATA_DIR, \"train.csv\")\n",
        "test_output = os.path.join(DATA_DIR, \"test.csv\")\n",
        "\n",
        "# Download train.csv\n",
        "print(\"📥 Downloading train.csv...\")\n",
        "gdown.download(f\"https://drive.google.com/uc?id={TRAIN_FILE_ID}\", train_output, quiet=False)\n",
        "\n",
        "# Download test.csv\n",
        "print(\"📥 Downloading test.csv...\")\n",
        "gdown.download(f\"https://drive.google.com/uc?id={TEST_FILE_ID}\", test_output, quiet=False)\n",
        "\n",
        "# Load into Pandas DataFrame\n",
        "print(\"📊 Loading data into DataFrames...\")\n",
        "df_train = pd.read_csv(train_output,index_col=\"id\")\n",
        "df_test = pd.read_csv(test_output,index_col=\"id\")\n",
        "\n",
        "# Confirm shapes\n",
        "print(\"\\n✅ Files downloaded successfully!\")\n",
        "print(f\"Train shape: {df_train.shape}\")\n",
        "print(f\"Test shape: {df_test.shape}\")"
      ]
    }
  ]
}